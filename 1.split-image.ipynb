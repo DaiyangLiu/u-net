{
 "cells": [
  {
   "cell_type": "markdown",
   "metadata": {},
   "source": [
    "# 1.1 准备图片\n",
    "# 因为从ISBI官网上下载的图片是TIFF3D图像\n",
    "# 所以要将TIFF3D图像转换成30张tif图像\n",
    "\n",
    "### PS:tiff 在Python2.7的环境下能跑通，在Python3.5下可能会报错\n",
    "\n",
    "### 所以以下代码是在python2.7的环境下执行的"
   ]
  },
  {
   "cell_type": "code",
   "execution_count": 1,
   "metadata": {},
   "outputs": [],
   "source": [
    "from libtiff import *\n",
    "\n",
    "imgdir = TIFF3D.open(\"./data/train-volume.tif\")\n",
    "imgarr = imgdir.read_image()\n",
    "for i in range(imgarr.shape[0]):\n",
    "    savepath = \"./data/train/\"+ str(i) + '.tif'\n",
    "    img = TIFF.open(savepath, 'w')\n",
    "    img.write_image(imgarr[i])"
   ]
  },
  {
   "cell_type": "code",
   "execution_count": 2,
   "metadata": {},
   "outputs": [],
   "source": [
    "imgdir = TIFF3D.open(\"./data/test-volume.tif\")\n",
    "imgarr = imgdir.read_image()\n",
    "for i in range(imgarr.shape[0]):\n",
    "    savepath = \"./data/test/\"+ str(i) + '.tif'\n",
    "    img = TIFF.open(savepath, 'w')\n",
    "    img.write_image(imgarr[i])"
   ]
  },
  {
   "cell_type": "code",
   "execution_count": 3,
   "metadata": {},
   "outputs": [],
   "source": [
    "imgdir = TIFF3D.open(\"./data/train-labels.tif\")\n",
    "imgarr = imgdir.read_image()\n",
    "for i in range(imgarr.shape[0]):\n",
    "    savepath = \"./data/label/\"+ str(i) + '.tif'\n",
    "    img = TIFF.open(savepath, 'w')\n",
    "    img.write_image(imgarr[i])"
   ]
  },
  {
   "cell_type": "code",
   "execution_count": 4,
   "metadata": {},
   "outputs": [
    {
     "name": "stdout",
     "output_type": "stream",
     "text": [
      "\u001b[0m\u001b[01;35m0.tif\u001b[0m   \u001b[01;35m12.tif\u001b[0m  \u001b[01;35m15.tif\u001b[0m  \u001b[01;35m18.tif\u001b[0m  \u001b[01;35m20.tif\u001b[0m  \u001b[01;35m23.tif\u001b[0m  \u001b[01;35m26.tif\u001b[0m  \u001b[01;35m29.tif\u001b[0m  \u001b[01;35m4.tif\u001b[0m  \u001b[01;35m7.tif\u001b[0m\r\n",
      "\u001b[01;35m10.tif\u001b[0m  \u001b[01;35m13.tif\u001b[0m  \u001b[01;35m16.tif\u001b[0m  \u001b[01;35m19.tif\u001b[0m  \u001b[01;35m21.tif\u001b[0m  \u001b[01;35m24.tif\u001b[0m  \u001b[01;35m27.tif\u001b[0m  \u001b[01;35m2.tif\u001b[0m   \u001b[01;35m5.tif\u001b[0m  \u001b[01;35m8.tif\u001b[0m\r\n",
      "\u001b[01;35m11.tif\u001b[0m  \u001b[01;35m14.tif\u001b[0m  \u001b[01;35m17.tif\u001b[0m  \u001b[01;35m1.tif\u001b[0m   \u001b[01;35m22.tif\u001b[0m  \u001b[01;35m25.tif\u001b[0m  \u001b[01;35m28.tif\u001b[0m  \u001b[01;35m3.tif\u001b[0m   \u001b[01;35m6.tif\u001b[0m  \u001b[01;35m9.tif\u001b[0m\r\n"
     ]
    }
   ],
   "source": [
    "%ls ./data/train"
   ]
  },
  {
   "cell_type": "code",
   "execution_count": null,
   "metadata": {},
   "outputs": [],
   "source": []
  }
 ],
 "metadata": {
  "kernelspec": {
   "display_name": "Python 2",
   "language": "python",
   "name": "python2"
  },
  "language_info": {
   "codemirror_mode": {
    "name": "ipython",
    "version": 2
   },
   "file_extension": ".py",
   "mimetype": "text/x-python",
   "name": "python",
   "nbconvert_exporter": "python",
   "pygments_lexer": "ipython2",
   "version": "2.7.13"
  }
 },
 "nbformat": 4,
 "nbformat_minor": 2
}
