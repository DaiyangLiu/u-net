{
 "cells": [
  {
   "cell_type": "code",
   "execution_count": 1,
   "metadata": {},
   "outputs": [
    {
     "name": "stderr",
     "output_type": "stream",
     "text": [
      "Using TensorFlow backend.\n"
     ]
    }
   ],
   "source": [
    "from keras.models import *\n",
    "from keras.layers import Input, merge, Conv2D, MaxPooling2D, UpSampling2D, Dropout, Cropping2D, BatchNormalization\n",
    "from keras.optimizers import *\n",
    "from keras.callbacks import ModelCheckpoint, LearningRateScheduler"
   ]
  },
  {
   "cell_type": "code",
   "execution_count": 2,
   "metadata": {},
   "outputs": [],
   "source": [
    "class myUnet(object):\n",
    "    def __init__(self, img_rows=512, img_cols=512):\n",
    "        self.img_rows = img_rows\n",
    "        self.img_cols = img_cols\n",
    "\n",
    "    def load_data(self):\n",
    "        #mydata = dataProcess(self.img_rows, self.img_cols)\n",
    "        #imgs_train, imgs_mask_train = mydata.load_train_data()\n",
    "        #imgs_test = mydata.load_test_data()\n",
    "        imgs_train = np.load(\"./data/npydata/imgs_train.npy\")\n",
    "        imgs_mask_train = np.load(\"./data/npydata/imgs_mask_train.npy\")\n",
    "        imgs_train = imgs_train.astype('float32')\n",
    "        imgs_mask_train = imgs_mask_train.astype('float32')\n",
    "        imgs_train /= 255\n",
    "        mean = imgs_train.mean(axis=0)\n",
    "        imgs_train -= mean\n",
    "        imgs_mask_train /= 255\n",
    "        imgs_mask_train[imgs_mask_train > 0.5] = 1\n",
    "        imgs_mask_train[imgs_mask_train <= 0.5] = 0\n",
    "        \n",
    "        imgs_test = np.load(\"./data/npydata/imgs_test.npy\")\n",
    "        imgs_test = imgs_test.astype('float32')\n",
    "        imgs_test /= 255\n",
    "        mean = imgs_test.mean(axis=0)\n",
    "        imgs_test -= mean\n",
    "        return imgs_train, imgs_mask_train, imgs_test\n",
    "    \n",
    "    def get_unet(self):\n",
    "        inputs = Input((self.img_rows, self.img_cols, 1))\n",
    "\n",
    "        conv1 = Conv2D(64, 3, activation='relu', padding='same', kernel_initializer='he_normal')(inputs)\n",
    "        conv1 = Conv2D(64, 3, activation='relu', padding='same', kernel_initializer='he_normal')(conv1)\n",
    "        pool1 = MaxPooling2D(pool_size=(2, 2))(conv1)\n",
    "\n",
    "        conv2 = Conv2D(128, 3, activation='relu', padding='same', kernel_initializer='he_normal')(pool1)\n",
    "        conv2 = Conv2D(128, 3, activation='relu', padding='same', kernel_initializer='he_normal')(conv2)\n",
    "        pool2 = MaxPooling2D(pool_size=(2, 2))(conv2)\n",
    "\n",
    "        conv3 = Conv2D(256, 3, activation='relu', padding='same', kernel_initializer='he_normal')(pool2)\n",
    "        conv3 = Conv2D(256, 3, activation='relu', padding='same', kernel_initializer='he_normal')(conv3)\n",
    "        pool3 = MaxPooling2D(pool_size=(2, 2))(conv3)\n",
    "\n",
    "        conv4 = Conv2D(512, 3, activation='relu', padding='same', kernel_initializer='he_normal')(pool3)\n",
    "        conv4 = Conv2D(512, 3, activation='relu', padding='same', kernel_initializer='he_normal')(conv4)\n",
    "        drop4 = Dropout(0.5)(conv4)\n",
    "        pool4 = MaxPooling2D(pool_size=(2, 2))(drop4)\n",
    "\n",
    "        conv5 = Conv2D(1024, 3, activation='relu', padding='same', kernel_initializer='he_normal')(pool4)\n",
    "        conv5 = Conv2D(1024, 3, activation='relu', padding='same', kernel_initializer='he_normal')(conv5)\n",
    "        drop5 = Dropout(0.5)(conv5)\n",
    "\n",
    "        up6 = Conv2D(512, 2, activation='relu', padding='same', kernel_initializer='he_normal')(\n",
    "            UpSampling2D(size=(2, 2))(drop5))\n",
    "        merge6 = merge([drop4, up6], mode='concat', concat_axis=3)\n",
    "        conv6 = Conv2D(512, 3, activation='relu', padding='same', kernel_initializer='he_normal')(merge6)\n",
    "        conv6 = Conv2D(512, 3, activation='relu', padding='same', kernel_initializer='he_normal')(conv6)\n",
    "\n",
    "\n",
    "        up7 = Conv2D(256, 2, activation='relu', padding='same', kernel_initializer='he_normal')(\n",
    "            UpSampling2D(size=(2, 2))(conv6))\n",
    "        merge7 = merge([conv3, up7], mode='concat', concat_axis=3)\n",
    "        conv7 = Conv2D(256, 3, activation='relu', padding='same', kernel_initializer='he_normal')(merge7)\n",
    "        conv7 = Conv2D(256, 3, activation='relu', padding='same', kernel_initializer='he_normal')(conv7)\n",
    "\n",
    "        up8 = Conv2D(128, 2, activation='relu', padding='same', kernel_initializer='he_normal')(\n",
    "            UpSampling2D(size=(2, 2))(conv7))\n",
    "        merge8 = merge([conv2, up8], mode='concat', concat_axis=3)\n",
    "        conv8 = Conv2D(128, 3, activation='relu', padding='same', kernel_initializer='he_normal')(merge8)\n",
    "        conv8 = Conv2D(128, 3, activation='relu', padding='same', kernel_initializer='he_normal')(conv8)\n",
    "\n",
    "        up9 = Conv2D(64, 2, activation='relu', padding='same', kernel_initializer='he_normal')(\n",
    "            UpSampling2D(size=(2, 2))(conv8))\n",
    "        merge9 = merge([conv1, up9], mode='concat', concat_axis=3)\n",
    "        conv9 = Conv2D(64, 3, activation='relu', padding='same', kernel_initializer='he_normal')(merge9)\n",
    "        conv9 = Conv2D(64, 3, activation='relu', padding='same', kernel_initializer='he_normal')(conv9)\n",
    "        conv9 = Conv2D(2, 3, activation='relu', padding='same', kernel_initializer='he_normal')(conv9)\n",
    "        conv10 = Conv2D(1, 1, activation='sigmoid')(conv9)\n",
    "\n",
    "        model = Model(input=inputs, output=conv10)\n",
    "\n",
    "        model.compile(optimizer=Adam(lr=1e-4), loss='binary_crossentropy', metrics=['accuracy'])\n",
    "        print('model compile')\n",
    "        return model\n",
    "    \n",
    "    def train(self):\n",
    "        print(\"loading data\")\n",
    "        imgs_train, imgs_mask_train, imgs_test = self.load_data()\n",
    "        print(\"loading data done\")\n",
    "        model = self.get_unet()\n",
    "        print(\"got unet\")\n",
    "\n",
    "        # 保存的是模型和权重,\n",
    "        model_checkpoint = ModelCheckpoint('unet.hdf5', monitor='loss', verbose=1, save_best_only=True)\n",
    "        print('Fitting model...')\n",
    "        model.fit(imgs_train, imgs_mask_train, batch_size=1, epochs=10, verbose=1, shuffle=True,\n",
    "                  callbacks=[model_checkpoint])\n",
    "\n",
    "        print('predict test data')\n",
    "        imgs_mask_test = model.predict(imgs_test, batch_size=1, verbose=1)\n",
    "        np.save('imgs_mask_test.npy', imgs_mask_test)\n",
    "        \n",
    "    \n",
    "    def test(self):\n",
    "        print(\"loading data\")\n",
    "        imgs_train, imgs_mask_train, imgs_test = self.load_data()\n",
    "        print(\"loading data done\")\n",
    "        model = self.get_unet()\n",
    "        print(\"got unet\")\n",
    "        model.load_weights('unet.hdf5')\n",
    "        print('predict test data')\n",
    "        imgs_mask_test = model.predict(imgs_test, batch_size=1, verbose=1)\n",
    "        np.save('imgs_mask_test.npy', imgs_mask_test)"
   ]
  },
  {
   "cell_type": "code",
   "execution_count": 4,
   "metadata": {},
   "outputs": [
    {
     "name": "stdout",
     "output_type": "stream",
     "text": [
      "loading data\n",
      "loading data done\n"
     ]
    },
    {
     "name": "stderr",
     "output_type": "stream",
     "text": [
      "/usr/local/miniconda3/envs/dl/lib/python3.5/site-packages/ipykernel_launcher.py:54: UserWarning: The `merge` function is deprecated and will be removed after 08/2017. Use instead layers from `keras.layers.merge`, e.g. `add`, `concatenate`, etc.\n",
      "/usr/local/miniconda3/envs/dl/lib/python3.5/site-packages/keras/legacy/layers.py:458: UserWarning: The `Merge` layer is deprecated and will be removed after 08/2017. Use instead layers from `keras.layers.merge`, e.g. `add`, `concatenate`, etc.\n",
      "  name=name)\n",
      "/usr/local/miniconda3/envs/dl/lib/python3.5/site-packages/ipykernel_launcher.py:61: UserWarning: The `merge` function is deprecated and will be removed after 08/2017. Use instead layers from `keras.layers.merge`, e.g. `add`, `concatenate`, etc.\n",
      "/usr/local/miniconda3/envs/dl/lib/python3.5/site-packages/ipykernel_launcher.py:67: UserWarning: The `merge` function is deprecated and will be removed after 08/2017. Use instead layers from `keras.layers.merge`, e.g. `add`, `concatenate`, etc.\n",
      "/usr/local/miniconda3/envs/dl/lib/python3.5/site-packages/ipykernel_launcher.py:73: UserWarning: The `merge` function is deprecated and will be removed after 08/2017. Use instead layers from `keras.layers.merge`, e.g. `add`, `concatenate`, etc.\n",
      "/usr/local/miniconda3/envs/dl/lib/python3.5/site-packages/ipykernel_launcher.py:79: UserWarning: Update your `Model` call to the Keras 2 API: `Model(outputs=Tensor(\"co..., inputs=Tensor(\"in...)`\n"
     ]
    },
    {
     "name": "stdout",
     "output_type": "stream",
     "text": [
      "model compile\n",
      "got unet\n",
      "Fitting model...\n",
      "Epoch 1/10\n",
      "929/930 [============================>.] - ETA: 0s - loss: 0.6806 - acc: 0.7816Epoch 00000: loss improved from inf to 0.68064, saving model to unet.hdf5\n",
      "930/930 [==============================] - 331s - loss: 0.6806 - acc: 0.7816   \n",
      "Epoch 2/10\n",
      "929/930 [============================>.] - ETA: 0s - loss: 0.6573 - acc: 0.7827Epoch 00001: loss improved from 0.68064 to 0.65733, saving model to unet.hdf5\n",
      "930/930 [==============================] - 315s - loss: 0.6573 - acc: 0.7827   \n",
      "Epoch 3/10\n",
      "929/930 [============================>.] - ETA: 0s - loss: 0.6366 - acc: 0.7828Epoch 00002: loss improved from 0.65733 to 0.63662, saving model to unet.hdf5\n",
      "930/930 [==============================] - 315s - loss: 0.6366 - acc: 0.7827   \n",
      "Epoch 4/10\n",
      "929/930 [============================>.] - ETA: 0s - loss: 0.6182 - acc: 0.7827Epoch 00003: loss improved from 0.63662 to 0.61816, saving model to unet.hdf5\n",
      "930/930 [==============================] - 315s - loss: 0.6182 - acc: 0.7827   \n",
      "Epoch 5/10\n",
      "929/930 [============================>.] - ETA: 0s - loss: 0.6017 - acc: 0.7828Epoch 00004: loss improved from 0.61816 to 0.60175, saving model to unet.hdf5\n",
      "930/930 [==============================] - 315s - loss: 0.6017 - acc: 0.7827   \n",
      "Epoch 6/10\n",
      "929/930 [============================>.] - ETA: 0s - loss: 0.5872 - acc: 0.7828Epoch 00005: loss improved from 0.60175 to 0.58723, saving model to unet.hdf5\n",
      "930/930 [==============================] - 315s - loss: 0.5872 - acc: 0.7827   \n",
      "Epoch 7/10\n",
      "929/930 [============================>.] - ETA: 0s - loss: 0.5745 - acc: 0.7827Epoch 00006: loss improved from 0.58723 to 0.57449, saving model to unet.hdf5\n",
      "930/930 [==============================] - 315s - loss: 0.5745 - acc: 0.7827   \n",
      "Epoch 8/10\n",
      "929/930 [============================>.] - ETA: 0s - loss: 0.5635 - acc: 0.7827Epoch 00007: loss improved from 0.57449 to 0.56345, saving model to unet.hdf5\n",
      "930/930 [==============================] - 315s - loss: 0.5635 - acc: 0.7827   \n",
      "Epoch 9/10\n",
      "929/930 [============================>.] - ETA: 0s - loss: 0.5540 - acc: 0.7828Epoch 00008: loss improved from 0.56345 to 0.55401, saving model to unet.hdf5\n",
      "930/930 [==============================] - 315s - loss: 0.5540 - acc: 0.7827   \n",
      "Epoch 10/10\n",
      "929/930 [============================>.] - ETA: 0s - loss: 0.5460 - acc: 0.7828Epoch 00009: loss improved from 0.55401 to 0.54607, saving model to unet.hdf5\n",
      "930/930 [==============================] - 315s - loss: 0.5461 - acc: 0.7827   \n",
      "predict test data\n",
      "30/30 [==============================] - 3s     \n"
     ]
    }
   ],
   "source": [
    "myunet = myUnet()\n",
    "myunet.train()"
   ]
  },
  {
   "cell_type": "code",
   "execution_count": 5,
   "metadata": {},
   "outputs": [
    {
     "name": "stdout",
     "output_type": "stream",
     "text": [
      "loading data\n",
      "loading data done\n"
     ]
    },
    {
     "name": "stderr",
     "output_type": "stream",
     "text": [
      "/usr/local/miniconda3/envs/dl/lib/python3.5/site-packages/ipykernel_launcher.py:54: UserWarning: The `merge` function is deprecated and will be removed after 08/2017. Use instead layers from `keras.layers.merge`, e.g. `add`, `concatenate`, etc.\n",
      "/usr/local/miniconda3/envs/dl/lib/python3.5/site-packages/keras/legacy/layers.py:458: UserWarning: The `Merge` layer is deprecated and will be removed after 08/2017. Use instead layers from `keras.layers.merge`, e.g. `add`, `concatenate`, etc.\n",
      "  name=name)\n",
      "/usr/local/miniconda3/envs/dl/lib/python3.5/site-packages/ipykernel_launcher.py:61: UserWarning: The `merge` function is deprecated and will be removed after 08/2017. Use instead layers from `keras.layers.merge`, e.g. `add`, `concatenate`, etc.\n",
      "/usr/local/miniconda3/envs/dl/lib/python3.5/site-packages/ipykernel_launcher.py:67: UserWarning: The `merge` function is deprecated and will be removed after 08/2017. Use instead layers from `keras.layers.merge`, e.g. `add`, `concatenate`, etc.\n",
      "/usr/local/miniconda3/envs/dl/lib/python3.5/site-packages/ipykernel_launcher.py:73: UserWarning: The `merge` function is deprecated and will be removed after 08/2017. Use instead layers from `keras.layers.merge`, e.g. `add`, `concatenate`, etc.\n",
      "/usr/local/miniconda3/envs/dl/lib/python3.5/site-packages/ipykernel_launcher.py:79: UserWarning: Update your `Model` call to the Keras 2 API: `Model(outputs=Tensor(\"co..., inputs=Tensor(\"in...)`\n"
     ]
    },
    {
     "name": "stdout",
     "output_type": "stream",
     "text": [
      "model compile\n",
      "got unet\n",
      "predict test data\n",
      "30/30 [==============================] - 3s     \n"
     ]
    }
   ],
   "source": [
    "myunet.test()"
   ]
  },
  {
   "cell_type": "code",
   "execution_count": null,
   "metadata": {},
   "outputs": [],
   "source": []
  }
 ],
 "metadata": {
  "kernelspec": {
   "display_name": "Python 3",
   "language": "python",
   "name": "python3"
  },
  "language_info": {
   "codemirror_mode": {
    "name": "ipython",
    "version": 3
   },
   "file_extension": ".py",
   "mimetype": "text/x-python",
   "name": "python",
   "nbconvert_exporter": "python",
   "pygments_lexer": "ipython3",
   "version": "3.5.4"
  }
 },
 "nbformat": 4,
 "nbformat_minor": 2
}
