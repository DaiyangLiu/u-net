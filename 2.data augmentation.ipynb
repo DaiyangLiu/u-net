{
 "cells": [
  {
   "cell_type": "code",
   "execution_count": 3,
   "metadata": {},
   "outputs": [],
   "source": [
    "from keras.preprocessing.image import ImageDataGenerator, array_to_img, img_to_array, load_img\n",
    "import numpy as np\n",
    "import os\n",
    "import glob\n",
    "import cv2\n",
    "import matplotlib.pyplot as plt"
   ]
  },
  {
   "cell_type": "markdown",
   "metadata": {},
   "source": [
    "# 1.Augmentation init \n",
    "## 数据增强初始化"
   ]
  },
  {
   "cell_type": "code",
   "execution_count": 4,
   "metadata": {},
   "outputs": [],
   "source": [
    "train_path=\"./data/train\"\n",
    "label_path=\"./data/label\"\n",
    "merge_path=\"./data/merge\"\n",
    "aug_merge_path=\"./data/aug_merge\"\n",
    "aug_train_path=\"./data/aug_train\"\n",
    "aug_label_path=\"./data/aug_label\"\n",
    "img_type=\"tif\""
   ]
  },
  {
   "cell_type": "code",
   "execution_count": 5,
   "metadata": {},
   "outputs": [
    {
     "name": "stdout",
     "output_type": "stream",
     "text": [
      "30\n"
     ]
    }
   ],
   "source": [
    "train_imgs = glob.glob(train_path + \"/*.\" + img_type)  # 训练集\n",
    "label_imgs = glob.glob(label_path + \"/*.\" + img_type)  # label\n",
    "\n",
    "slices = len(train_imgs)\n",
    "print(slices)\n",
    "\n",
    "datagen = ImageDataGenerator(\n",
    "            rotation_range=0.2,\n",
    "            width_shift_range=0.05,\n",
    "            height_shift_range=0.05,\n",
    "            shear_range=0.05,\n",
    "            zoom_range=0.05,\n",
    "            horizontal_flip=True,\n",
    "            fill_mode='nearest')"
   ]
  },
  {
   "cell_type": "code",
   "execution_count": 8,
   "metadata": {},
   "outputs": [],
   "source": [
    "def doAugmentate(img, save_to_dir, save_prefix, batch_size=1, save_format='tif', imgnum=30):\n",
    "    print(\"运行 doAugmenttaion\")\n",
    "    # augmentate one image\n",
    "    datagen = ImageDataGenerator(\n",
    "            rotation_range=0.2,\n",
    "            width_shift_range=0.05,\n",
    "            height_shift_range=0.05,\n",
    "            shear_range=0.05,\n",
    "            zoom_range=0.05,\n",
    "            horizontal_flip=True,\n",
    "            fill_mode='nearest')\n",
    "    i = 0\n",
    "    for batch in datagen.flow(img,\n",
    "                                  batch_size=batch_size,\n",
    "                                  save_to_dir=save_to_dir,\n",
    "                                  save_prefix=save_prefix,\n",
    "                                  save_format=save_format):\n",
    "        i += 1\n",
    "        if i > imgnum:\n",
    "            break"
   ]
  },
  {
   "cell_type": "code",
   "execution_count": 9,
   "metadata": {},
   "outputs": [
    {
     "name": "stdout",
     "output_type": "stream",
     "text": [
      "运行 Augmentation\n",
      "(30, 30)\n",
      "运行 doAugmenttaion\n",
      "运行 doAugmenttaion\n",
      "运行 doAugmenttaion\n",
      "运行 doAugmenttaion\n",
      "运行 doAugmenttaion\n",
      "运行 doAugmenttaion\n",
      "运行 doAugmenttaion\n",
      "运行 doAugmenttaion\n",
      "运行 doAugmenttaion\n",
      "运行 doAugmenttaion\n",
      "运行 doAugmenttaion\n",
      "运行 doAugmenttaion\n",
      "运行 doAugmenttaion\n",
      "运行 doAugmenttaion\n",
      "运行 doAugmenttaion\n",
      "运行 doAugmenttaion\n",
      "运行 doAugmenttaion\n",
      "运行 doAugmenttaion\n",
      "运行 doAugmenttaion\n",
      "运行 doAugmenttaion\n",
      "运行 doAugmenttaion\n",
      "运行 doAugmenttaion\n",
      "运行 doAugmenttaion\n",
      "运行 doAugmenttaion\n",
      "运行 doAugmenttaion\n",
      "运行 doAugmenttaion\n",
      "运行 doAugmenttaion\n",
      "运行 doAugmenttaion\n",
      "运行 doAugmenttaion\n",
      "运行 doAugmenttaion\n"
     ]
    }
   ],
   "source": [
    "# 读入3通道的train和label, 分别转换成矩阵, 然后将label的第一个通道放在train的第2个通处, 做数据增强\n",
    "print(\"运行 Augmentation\")\n",
    "#Start augmentation.....\n",
    "    \n",
    "trains = train_imgs\n",
    "labels = label_imgs\n",
    "\n",
    "path_train = train_path\n",
    "path_label = label_path\n",
    "path_merge = merge_path\n",
    "imgtype = img_type\n",
    "path_aug_merge = aug_merge_path\n",
    "\n",
    "print(len(trains), len(labels))\n",
    "\n",
    "if len(trains) != len(labels) or len(trains) == 0 or len(trains) == 0:\n",
    "    print(\"trains can't match labels\")\n",
    "else:            \n",
    "    for i in range(len(trains)):\n",
    "        img_t = load_img(path_train + \"/\" + str(i) + \".\" + imgtype)  # 读入train\n",
    "        img_l = load_img(path_label + \"/\" + str(i) + \".\" + imgtype)  # 读入label\n",
    "        \n",
    "        x_t = img_to_array(img_t)                                    # 转换成矩阵\n",
    "        x_l = img_to_array(img_l)\n",
    "        \n",
    "        x_t[:, :, 2] = x_l[:, :, 0]                                  # 把label当做train的第三个通道\n",
    "        \n",
    "        img_tmp = array_to_img(x_t)\n",
    "        img_tmp.save(path_merge + \"/\" + str(i) + \".\" + imgtype)      # 保存合并后的图像\n",
    "        img = x_t\n",
    "        img = img.reshape((1,) + img.shape)                          # 改变shape(1, 512, 512, 3)\n",
    "        savedir = path_aug_merge + \"/\" + str(i)                      # 存储合并增强后的图像\n",
    "        if not os.path.lexists(savedir):\n",
    "            os.mkdir(savedir)\n",
    "        doAugmentate(img, savedir, str(i))                      # 数据增强"
   ]
  },
  {
   "cell_type": "markdown",
   "metadata": {},
   "source": [
    "# split merged image"
   ]
  },
  {
   "cell_type": "code",
   "execution_count": 11,
   "metadata": {},
   "outputs": [
    {
     "name": "stdout",
     "output_type": "stream",
     "text": [
      "运行 splitMerge\n",
      "./data/aug_merge/0\n",
      "./data/aug_merge/1\n",
      "./data/aug_merge/2\n",
      "./data/aug_merge/3\n",
      "./data/aug_merge/4\n",
      "./data/aug_merge/5\n",
      "./data/aug_merge/6\n",
      "./data/aug_merge/7\n",
      "./data/aug_merge/8\n",
      "./data/aug_merge/9\n",
      "./data/aug_merge/10\n",
      "./data/aug_merge/11\n",
      "./data/aug_merge/12\n",
      "./data/aug_merge/13\n",
      "./data/aug_merge/14\n",
      "./data/aug_merge/15\n",
      "./data/aug_merge/16\n",
      "./data/aug_merge/17\n",
      "./data/aug_merge/18\n",
      "./data/aug_merge/19\n",
      "./data/aug_merge/20\n",
      "./data/aug_merge/21\n",
      "./data/aug_merge/22\n",
      "./data/aug_merge/23\n",
      "./data/aug_merge/24\n",
      "./data/aug_merge/25\n",
      "./data/aug_merge/26\n",
      "./data/aug_merge/27\n",
      "./data/aug_merge/28\n",
      "./data/aug_merge/29\n"
     ]
    }
   ],
   "source": [
    "# 读入合并增强之后的数据(aug_merge), 对其进行分离, 分别保存至 aug_train, aug_label\n",
    "print(\"运行 splitMerge\")\n",
    "    #split merged image apart\n",
    "path_merge = aug_merge_path       # 合并增强之后的图像\n",
    "path_train = aug_train_path       # 增强之后分离出来的train\n",
    "path_label = aug_label_path       # 增强之后分离出来的label\n",
    "\n",
    "for i in range(slices):\n",
    "    path = path_merge + \"/\" + str(i)\n",
    "    print(path)\n",
    "    train_imgs = glob.glob(path + \"/*.\" + img_type)  # 所有训练图像\n",
    "    savedir = path_train + \"/\" + str(i)                   # 保存训练集的路径\n",
    "    \n",
    "    if not os.path.lexists(savedir):\n",
    "        os.mkdir(savedir)\n",
    "        \n",
    "    savedir = path_label + \"/\" + str(i)                   # 保存label的路径\n",
    "    \n",
    "    if not os.path.lexists(savedir):\n",
    "        os.mkdir(savedir)\n",
    "        \n",
    "    for imgname in train_imgs:         # rindex(\"/\") 是返回'/'在字符串中最后一次出现的索引\n",
    "        midname = imgname[imgname.rindex(\"/\") + 1:imgname.rindex(\".\" + img_type)] # 获得文件名(不包含后缀)\n",
    "        img = cv2.imread(imgname)      # 读入训练图像\n",
    "        img_train = img[:, :, 2]  # 训练集是第2个通道, label是第0个通道\n",
    "        img_label = img[:, :, 0]\n",
    "        cv2.imwrite(path_train + \"/\" + str(i) + \"/\" + midname + \"_train\" + \".\" + img_type, img_train) # 保存训练图像和label\n",
    "        cv2.imwrite(path_label + \"/\" + str(i) + \"/\" + midname + \"_label\" + \".\" + img_type, img_label)"
   ]
  },
  {
   "cell_type": "code",
   "execution_count": null,
   "metadata": {},
   "outputs": [],
   "source": []
  }
 ],
 "metadata": {
  "kernelspec": {
   "display_name": "Python 2",
   "language": "python",
   "name": "python2"
  },
  "language_info": {
   "codemirror_mode": {
    "name": "ipython",
    "version": 2
   },
   "file_extension": ".py",
   "mimetype": "text/x-python",
   "name": "python",
   "nbconvert_exporter": "python",
   "pygments_lexer": "ipython2",
   "version": "2.7.13"
  }
 },
 "nbformat": 4,
 "nbformat_minor": 2
}
